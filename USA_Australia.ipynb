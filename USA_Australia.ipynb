{
 "cells": [
  {
   "cell_type": "markdown",
   "metadata": {
    "collapsed": false
   },
   "source": [
    "<h3>Lab 4/5: Assignment</h3>\n",
    "\n",
    "# USA - Australia Comparison on Census Data\n",
    "\n",
    "---\n",
    "\n"
   ]
  },
  {
   "cell_type": "markdown",
   "metadata": {
    "collapsed": false,
    "deletable": false
   },
   "source": [
    "## Declaration\n",
    "\n",
    "This declaration should be completed and remain attached to the top of your submission.\n",
    "\n",
    "*I/we am/are aware of the University’s [policy on academic conduct](https://www.uwa.edu.au/policy/-/media/Project/UWA/UWA/Policy-Library/Policy/Student-Administration/Academic-Integrity/Academic-Integrity-Policy.doc) and I declare that this assignment is entirely the work of the author(s) listed below and that suitable acknowledgement has been made for any sources of information used in preparing it. I have retained a hard copy for my own records.*\n",
    "\n",
    "- Name 1: Sean Peralta Garcia\n",
    "- Student ID 1: 23088091\n",
    "- Name 2: Alicia Angel Setiawan\n",
    "- Student ID 2: 23077216\n",
    "- Name 3: Theresa Nadia\n",
    "- Student ID 3: 23225186\n",
    "- Date: 03 Sept 2022 \\(03\\-09\\-2022\\)\n",
    "\n",
    "If the assignment was completed in a group, please enter the student numbers in the \"StudyBuddy\" declaration below:\n",
    "\n"
   ]
  },
  {
   "cell_type": "code",
   "execution_count": 2,
   "metadata": {
    "collapsed": false
   },
   "outputs": [
   ],
   "source": [
    "StudyBuddies = ['23088091', '23077216', '23225186']"
   ]
  },
  {
   "cell_type": "markdown",
   "metadata": {
    "collapsed": false,
    "deletable": false,
    "editable": false,
    "nbgrader": {
     "grade": false,
     "grade_id": "assignment",
     "locked": true,
     "points": 15,
     "schema_version": 3,
     "solution": false,
     "task": true
    }
   },
   "source": [
    "\n",
    "<hr>\n"
   ]
  },
  {
   "cell_type": "markdown",
   "metadata": {
    "collapsed": false
   },
   "source": [
    "# Analysing Income Inequality in Australia and USA\n",
    "\n",
    "### Introduction:\n",
    "\n",
    "This report will explore the similarities and differences of income inequality between the populations of Australia and the United States. Analysis will explore if the proportion of males and females largely varies by income bracket and if income distribution differs by sex. Age distribution \n",
    "\n",
    "###### Hypothesis:\n",
    "\n",
    "The United States of America has a higher income inequality by age **and** by sex compared to Australia.\n",
    "\n",
    "###### Aims:\n",
    "\n",
    "- Understand the make up of each population \\(by sex, by age\\)\n",
    "- Analyse the income distribution of the US and Australia as a whole\n",
    "- Breakdown and analyse the income distribution of the US and Australia by sex\n",
    "- Breakdown and analyse the income distribution of the US and Australia by age\n",
    "\n",
    "<br />\n",
    "\n"
   ]
  },
  {
   "cell_type": "markdown",
   "metadata": {
    "collapsed": false
   },
   "source": [
    "##### Data:\n",
    "\n",
    "Data for this report comes from :\n",
    "\n",
    "- Australian Bureau of Statistics \\(ABS\\) 2021 Census\n",
    "  - 2021 General Community Profile \\- G17 TOTAL PERSONAL INCOME \\(WEEKLY\\) BY AGE BY SEX\n",
    "  - Available below \\(accessed on 06\\-09\\-2022\\)  <br />[https://www.abs.gov.au/census/find\\-census\\-data/datapacks/download/2021\\_GCP\\_all\\_for\\_AUS\\_short\\-header.zip](https://www.abs.gov.au/census/find-census-data/datapacks/download/2021_GCP_all_for_AUS_short-header.zip) \n",
    "\n",
    "- United States Census Bureau \\(Current Population Survey 2020\\)\n",
    "  - PINC\\-01. Selected Characteristics of People 15 Years and Over, by Total Money Income, Work Experience, Race, Hispanic Origin, and Sex. <br />\n",
    "  - Male data \\- Available below \\(accessed on 07\\-09\\-2022\\) <br />[https://www2.census.gov/programs\\-surveys/cps/tables/pinc\\-01/2021/pinc01\\_1\\_2\\_1.xlsx](https://www2.census.gov/programs-surveys/cps/tables/pinc-01/2021/pinc01_1_2_1.xlsx)\n",
    "  - Female data \\- Available below \\(accessed on 07\\-09\\-2022\\) <br />[https://www2.census.gov/programs\\-surveys/cps/tables/pinc\\-01/2021/pinc01\\_1\\_3\\_1.xlsx](https://www2.census.gov/programs-surveys/cps/tables/pinc-01/2021/pinc01_1_3_1.xlsx)\n",
    "\n",
    "###### Format of Data Sources:\n",
    "\n",
    "- _Relevant differences between the data from different sources, and assumptions you have to make for comparison, are clearly described_\n",
    "- AUS Data Assumptions\n",
    "  - Headers will remain the same\n",
    "    <br />\n",
    "- US Data Assumptions\n",
    "  - Headers will remain the same\n",
    "\n"
   ]
  },
  {
   "cell_type": "markdown",
   "metadata": {
    "collapsed": false
   },
   "source": [
    "### Methodology:\n",
    "\n",
    "##### Data Transformation\n",
    "\n"
   ]
  },
  {
   "cell_type": "markdown",
   "metadata": {
    "collapsed": false
   },
   "source": [
    "### Results:\n",
    "\n"
   ]
  },
  {
   "cell_type": "markdown",
   "metadata": {
    "collapsed": false
   },
   "source": [
    "### Discussion:\n",
    "\n",
    "Flaws\n",
    "\n",
    "- Only a measure of distribution \\- not real wealth/income\n",
    "  - Older people have wealth and may not need as much income\n",
    "- Does not take into account household incomes and family composition\n",
    "- proportions by year and week\n",
    "  - Assumed same hrs of work per week/days per year\n",
    "- Estimate nil\\-negative income & estimate top bracket\n",
    "\n"
   ]
  },
  {
   "cell_type": "markdown",
   "metadata": {
    "collapsed": false
   },
   "source": [
    "### Conclusion:\n",
    "\n"
   ]
  }
 ],
 "metadata": {
  "kernelspec": {
   "display_name": "Python 3 (system-wide)",
   "language": "python",
   "metadata": {
    "cocalc": {
     "description": "Python 3 programming language",
     "priority": 100,
     "url": "https://www.python.org/"
    }
   },
   "name": "python3",
   "resource_dir": "/ext/jupyter/kernels/python3"
  },
  "language_info": {
   "codemirror_mode": {
    "name": "ipython",
    "version": 3
   },
   "file_extension": ".py",
   "mimetype": "text/x-python",
   "name": "python",
   "nbconvert_exporter": "python",
   "pygments_lexer": "ipython3",
   "version": "3.8.10"
  },
  "nbgrader": {
   "__altered": false,
   "__hash": -335098374,
   "_root": {
    "entries": [
     [
      "cocalc_minimal_stubs",
      false
     ]
    ],
    "ownerID": {
    }
   },
   "cocalc_minimal_stubs": false,
   "size": 1
  }
 },
 "nbformat": 4,
 "nbformat_minor": 4
}